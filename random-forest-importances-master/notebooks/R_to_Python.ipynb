{
 "cells": [
  {
   "cell_type": "code",
   "execution_count": 5,
   "metadata": {
    "collapsed": true
   },
   "outputs": [],
   "source": [
    "import pandas as pd\n",
    "import matplotlib.pyplot as plt\n",
    "import numpy as np\n",
    "from sklearn.ensemble import RandomForestClassifier\n",
    "from sklearn.model_selection import cross_val_score\n",
    "from sklearn.base import clone"
   ]
  },
  {
   "cell_type": "code",
   "execution_count": 18,
   "metadata": {
    "collapsed": true
   },
   "outputs": [],
   "source": [
    "def plot_importances(df_importances, save=None, xrot=0, tickstep=3, scalefig=(1.0,1.0)):\n",
    "    \"\"\"\n",
    "    Given an array or data frame of importances, plot a horizontal bar chart\n",
    "    showing the importance values.\n",
    "    \"\"\"\n",
    "    I = df_importances\n",
    "\n",
    "    fig = plt.figure()\n",
    "    w, h = fig.get_size_inches()\n",
    "    fig.set_size_inches(w*scalefig[0], h*scalefig[1], forward=True)\n",
    "    ax = plt.gca()\n",
    "    ax.barh(np.arange(len(I.index)),\n",
    "            I.Importance, \n",
    "            height=.7,\n",
    "            tick_label=I.iloc[:,0],\n",
    "            color='#FDDB7D')\n",
    "\n",
    "    x0, x1 = ax.get_xlim()\n",
    "    y0, y1 = ax.get_ylim()\n",
    "    ax.set_aspect((x1 - x0) / (y1 - y0))\n",
    "\n",
    "    # rotate x-ticks\n",
    "    if xrot is not None:\n",
    "        plt.xticks(rotation=xrot)\n",
    "\n",
    "    # xticks freq\n",
    "    xticks = ax.get_xticks()\n",
    "    nticks = len(xticks)\n",
    "    new_ticks = xticks[np.arange(0, nticks, step=tickstep)]\n",
    "    ax.set_xticks(new_ticks)\n",
    "\n",
    "    plt.tight_layout()\n",
    "    if save:\n",
    "        plt.savefig(save, bbox_inches=\"tight\", pad_inches=0.03)\n",
    "    plt.show()"
   ]
  },
  {
   "cell_type": "markdown",
   "metadata": {},
   "source": [
    "## Classification - Accuracy"
   ]
  },
  {
   "cell_type": "code",
   "execution_count": 26,
   "metadata": {},
   "outputs": [
    {
     "data": {
      "image/png": "[encoded data removed]",
      "text/plain": [
       "<Figure size 432x144 with 1 Axes>"
      ]
     },
     "metadata": {},
     "output_type": "display_data"
    },
    {
     "data": {
      "image/png": "[encoded data removed]",
      "text/plain": [
       "<Figure size 432x144 with 1 Axes>"
      ]
     },
     "metadata": {},
     "output_type": "display_data"
    }
   ],
   "source": [
    "df = pd.read_csv(\"data/imp_R_class_acc.csv\")\n",
    "df = df.rename(columns={ df.columns[1]: \"Importance\" })\n",
    "sort = df.sort_values(df.columns[1], ascending = True)\n",
    "sort\n",
    "\n",
    "plot_importances(sort, scalefig=(1.0,0.5), save='../article/images/cls_permute_random_R.svg')\n",
    "plot_importances(sort, scalefig=(1.0,0.5), save='../article/images/cls_permute_random_R.pdf')"
   ]
  },
  {
   "cell_type": "markdown",
   "metadata": {},
   "source": [
    "## Classification - Gini"
   ]
  },
  {
   "cell_type": "code",
   "execution_count": 27,
   "metadata": {},
   "outputs": [
    {
     "data": {
      "image/png": "[encoded data removed]",
      "text/plain": [
       "<Figure size 432x144 with 1 Axes>"
      ]
     },
     "metadata": {},
     "output_type": "display_data"
    },
    {
     "data": {
      "image/png": "[encoded data removed]",
      "text/plain": [
       "<Figure size 432x144 with 1 Axes>"
      ]
     },
     "metadata": {},
     "output_type": "display_data"
    }
   ],
   "source": [
    "df = pd.read_csv(\"data/imp_R_class_gini.csv\")\n",
    "df\n",
    "\n",
    "df = df.rename(columns={ df.columns[1]: \"Importance\" })\n",
    "sort = df.sort_values(df.columns[1], ascending = True)\n",
    "sort\n",
    "\n",
    "plot_importances(sort, scalefig=(1.0,0.5), save='../article/images/cls_dflt_random_R.svg')\n",
    "plot_importances(sort, scalefig=(1.0,0.5), save='../article/images/cls_dflt_random_R.pdf')"
   ]
  },
  {
   "cell_type": "markdown",
   "metadata": {},
   "source": [
    "## Classification - Drop"
   ]
  },
  {
   "cell_type": "code",
   "execution_count": 21,
   "metadata": {},
   "outputs": [
    {
     "data": {
      "image/png": "[encoded data removed]",
      "text/plain": [
       "<Figure size 432x144 with 1 Axes>"
      ]
     },
     "metadata": {},
     "output_type": "display_data"
    }
   ],
   "source": [
    "df = pd.read_csv(\"data/imp_R_class_drop.csv\")\n",
    "df\n",
    "\n",
    "#df = df.rename(columns={ df.columns[1]: \"Importance\" })\n",
    "sort = df.sort_values(df.columns[2], ascending = True)\n",
    "sort = sort.drop(sort.columns[0], axis=1)\n",
    "sort\n",
    "\n",
    "plot_importances(sort, scalefig=(1.0,0.5), save='../article/images/cls_drop_random_R.svg')"
   ]
  },
  {
   "cell_type": "markdown",
   "metadata": {},
   "source": [
    "## Regression - MSE"
   ]
  },
  {
   "cell_type": "code",
   "execution_count": 22,
   "metadata": {},
   "outputs": [
    {
     "data": {
      "image/png": "[encoded data removed]",
      "text/plain": [
       "<Figure size 432x144 with 1 Axes>"
      ]
     },
     "metadata": {},
     "output_type": "display_data"
    }
   ],
   "source": [
    "df = pd.read_csv(\"data/imp_R_regr_MSE.csv\")\n",
    "df\n",
    "\n",
    "df = df.rename(columns={ df.columns[1]: \"Importance\" })\n",
    "\n",
    "df = df.rename(columns={ df.columns[0]: \"Feature\" })\n",
    "df\n",
    "\n",
    "sort = df.sort_values(df.columns[1], ascending = True)\n",
    "#sort = sort.drop(sort.columns[0], axis=1)\n",
    "sort\n",
    "\n",
    "plot_importances(sort, scalefig=(1.0,0.5), save='../article/images/regr_permute_random_R.svg')"
   ]
  },
  {
   "cell_type": "markdown",
   "metadata": {},
   "source": [
    "## Regression - RSS"
   ]
  },
  {
   "cell_type": "code",
   "execution_count": 25,
   "metadata": {},
   "outputs": [
    {
     "data": {
      "image/png": "[encoded data removed]",
      "text/plain": [
       "<Figure size 432x144 with 1 Axes>"
      ]
     },
     "metadata": {},
     "output_type": "display_data"
    },
    {
     "data": {
      "image/png": "[encoded data removed]",
      "text/plain": [
       "<Figure size 432x144 with 1 Axes>"
      ]
     },
     "metadata": {},
     "output_type": "display_data"
    }
   ],
   "source": [
    "df = pd.read_csv(\"data/imp_R_regr_RSS.csv\")\n",
    "df\n",
    "\n",
    "df = df.rename(columns={ df.columns[1]: \"Importance\" })\n",
    "\n",
    "df = df.rename(columns={ df.columns[0]: \"Feature\" })\n",
    "df\n",
    "\n",
    "sort = df.sort_values(df.columns[1], ascending = True)\n",
    "#sort = sort.drop(sort.columns[0], axis=1)\n",
    "sort\n",
    "\n",
    "plot_importances(sort, scalefig=(1.0,0.5), save='../article/images/regr_dflt_random_R.svg')\n",
    "plot_importances(sort, scalefig=(1.0,0.5), save='../article/images/regr_dflt_random_R.pdf')"
   ]
  },
  {
   "cell_type": "markdown",
   "metadata": {},
   "source": [
    "## Regression - drop"
   ]
  },
  {
   "cell_type": "code",
   "execution_count": 24,
   "metadata": {},
   "outputs": [
    {
     "data": {
      "image/png": "[encoded data removed]",
      "text/plain": [
       "<Figure size 432x144 with 1 Axes>"
      ]
     },
     "metadata": {},
     "output_type": "display_data"
    }
   ],
   "source": [
    "df = pd.read_csv(\"data/imp_R_regr_drop.csv\")\n",
    "df\n",
    "\n",
    "df = df.drop(df.columns[0], axis=1)\n",
    "\n",
    "df = df.rename(columns={ df.columns[1]: \"Importance\" })\n",
    "\n",
    "df = df.rename(columns={ df.columns[0]: \"Feature\" })\n",
    "df\n",
    "\n",
    "sort = df.sort_values(df.columns[1], ascending = True)\n",
    "#sort = sort.drop(sort.columns[0], axis=1)\n",
    "sort\n",
    "\n",
    "plot_importances(sort, scalefig=(1.0,0.5), save='../article/images/regr_drop_random_R.svg')"
   ]
  },
  {
   "cell_type": "code",
   "execution_count": null,
   "metadata": {
    "collapsed": true
   },
   "outputs": [],
   "source": []
  }
 ],
 "metadata": {
  "kernelspec": {
   "display_name": "Python 3",
   "language": "python",
   "name": "python3"
  },
  "language_info": {
   "codemirror_mode": {
    "name": "ipython",
    "version": 3
   },
   "file_extension": ".py",
   "mimetype": "text/x-python",
   "name": "python",
   "nbconvert_exporter": "python",
   "pygments_lexer": "ipython3",
   "version": "3.6.4"
  }
 },
 "nbformat": 4,
 "nbformat_minor": 2
}
